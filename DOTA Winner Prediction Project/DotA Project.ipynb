{
 "cells": [
  {
   "cell_type": "code",
   "execution_count": 1,
   "metadata": {
    "collapsed": true
   },
   "outputs": [],
   "source": [
    "import numpy as np\n",
    "import pandas as pd "
   ]
  },
  {
   "cell_type": "code",
   "execution_count": 3,
   "metadata": {},
   "outputs": [
    {
     "data": {
      "text/html": [
       "<div>\n",
       "<style>\n",
       "    .dataframe thead tr:only-child th {\n",
       "        text-align: right;\n",
       "    }\n",
       "\n",
       "    .dataframe thead th {\n",
       "        text-align: left;\n",
       "    }\n",
       "\n",
       "    .dataframe tbody tr th {\n",
       "        vertical-align: top;\n",
       "    }\n",
       "</style>\n",
       "<table border=\"1\" class=\"dataframe\">\n",
       "  <thead>\n",
       "    <tr style=\"text-align: right;\">\n",
       "      <th></th>\n",
       "      <th>Radiant 1</th>\n",
       "      <th>Radiant 2</th>\n",
       "      <th>Radiant 3</th>\n",
       "      <th>Radiant 4</th>\n",
       "      <th>Radiant 5</th>\n",
       "      <th>Dire 1</th>\n",
       "      <th>Dire 2</th>\n",
       "      <th>Dire 3</th>\n",
       "      <th>Dire 4</th>\n",
       "      <th>Dire 5</th>\n",
       "      <th>Winner</th>\n",
       "    </tr>\n",
       "  </thead>\n",
       "  <tbody>\n",
       "    <tr>\n",
       "      <th>0</th>\n",
       "      <td>Sven</td>\n",
       "      <td>Lone Druid</td>\n",
       "      <td>Venomancer</td>\n",
       "      <td>Clockwerk</td>\n",
       "      <td>Shadow Shaman</td>\n",
       "      <td>Invoker</td>\n",
       "      <td>Gyrocopter</td>\n",
       "      <td>Anti-Mage</td>\n",
       "      <td>Alchemist</td>\n",
       "      <td>Slark</td>\n",
       "      <td>2</td>\n",
       "    </tr>\n",
       "    <tr>\n",
       "      <th>1</th>\n",
       "      <td>Riki</td>\n",
       "      <td>Tinker</td>\n",
       "      <td>Puck</td>\n",
       "      <td>Leshrac</td>\n",
       "      <td>Nyx Assassin</td>\n",
       "      <td>Slardar</td>\n",
       "      <td>Sand King</td>\n",
       "      <td>Spectre</td>\n",
       "      <td>Necrolyte</td>\n",
       "      <td>Warlock</td>\n",
       "      <td>1</td>\n",
       "    </tr>\n",
       "    <tr>\n",
       "      <th>2</th>\n",
       "      <td>Invoker</td>\n",
       "      <td>Mirana</td>\n",
       "      <td>Pudge</td>\n",
       "      <td>Magnus</td>\n",
       "      <td>Keeper of the Light</td>\n",
       "      <td>Rubick</td>\n",
       "      <td>Tidehunter</td>\n",
       "      <td>Queen of Pain</td>\n",
       "      <td>Faceless Void</td>\n",
       "      <td>Sniper</td>\n",
       "      <td>2</td>\n",
       "    </tr>\n",
       "    <tr>\n",
       "      <th>3</th>\n",
       "      <td>Riki</td>\n",
       "      <td>Centaur Warrunner</td>\n",
       "      <td>Treant Protector</td>\n",
       "      <td>Queen of Pain</td>\n",
       "      <td>Broodmother</td>\n",
       "      <td>Rubick</td>\n",
       "      <td>Weaver</td>\n",
       "      <td>Troll Warlord</td>\n",
       "      <td>Alchemist</td>\n",
       "      <td>Drow Ranger</td>\n",
       "      <td>1</td>\n",
       "    </tr>\n",
       "    <tr>\n",
       "      <th>4</th>\n",
       "      <td>Razor</td>\n",
       "      <td>Kunkka</td>\n",
       "      <td>Drow Ranger</td>\n",
       "      <td>Leshrac</td>\n",
       "      <td>Zeus</td>\n",
       "      <td>Riki</td>\n",
       "      <td>Bane</td>\n",
       "      <td>Visage</td>\n",
       "      <td>Invoker</td>\n",
       "      <td>Timbersaw</td>\n",
       "      <td>1</td>\n",
       "    </tr>\n",
       "  </tbody>\n",
       "</table>\n",
       "</div>"
      ],
      "text/plain": [
       "  Radiant 1          Radiant 2         Radiant 3      Radiant 4  \\\n",
       "0      Sven         Lone Druid        Venomancer      Clockwerk   \n",
       "1      Riki             Tinker              Puck        Leshrac   \n",
       "2   Invoker             Mirana             Pudge         Magnus   \n",
       "3      Riki  Centaur Warrunner  Treant Protector  Queen of Pain   \n",
       "4     Razor             Kunkka       Drow Ranger        Leshrac   \n",
       "\n",
       "             Radiant 5   Dire 1      Dire 2         Dire 3         Dire 4  \\\n",
       "0        Shadow Shaman  Invoker  Gyrocopter      Anti-Mage      Alchemist   \n",
       "1         Nyx Assassin  Slardar   Sand King        Spectre      Necrolyte   \n",
       "2  Keeper of the Light   Rubick  Tidehunter  Queen of Pain  Faceless Void   \n",
       "3          Broodmother   Rubick      Weaver  Troll Warlord      Alchemist   \n",
       "4                 Zeus     Riki        Bane         Visage        Invoker   \n",
       "\n",
       "        Dire 5  Winner  \n",
       "0        Slark       2  \n",
       "1      Warlock       1  \n",
       "2       Sniper       2  \n",
       "3  Drow Ranger       1  \n",
       "4    Timbersaw       1  "
      ]
     },
     "execution_count": 3,
     "metadata": {},
     "output_type": "execute_result"
    }
   ],
   "source": [
    "df = pd.read_csv('trainingdata.csv')\n",
    "df.head()"
   ]
  },
  {
   "cell_type": "code",
   "execution_count": 51,
   "metadata": {
    "collapsed": true
   },
   "outputs": [],
   "source": [
    "from sklearn.linear_model import LogisticRegression\n",
    "from sklearn import metrics"
   ]
  },
  {
   "cell_type": "code",
   "execution_count": 20,
   "metadata": {},
   "outputs": [
    {
     "name": "stdout",
     "output_type": "stream",
     "text": [
      "(15000, 10)\n",
      "(15000, 1)\n"
     ]
    }
   ],
   "source": [
    "X = df.iloc[:,0:-1].values\n",
    "Y = df.iloc[:,-1].values\n",
    "X = X.reshape(15000,10)\n",
    "print(X.shape)\n",
    "Y = Y.reshape(15000,1)\n",
    "print(Y.shape)"
   ]
  },
  {
   "cell_type": "code",
   "execution_count": 48,
   "metadata": {},
   "outputs": [],
   "source": [
    "heroes = {}\n",
    "count = 0\n",
    "for collection in X:\n",
    "    for hero in collection:\n",
    "        if hero not in heroes:\n",
    "            heroes[hero] = count\n",
    "            count+=1\n",
    "\n",
    "for index,collection in enumerate(X):\n",
    "    for idx,hero in enumerate(collection):\n",
    "        X[index,idx] = heroes[hero]\n"
   ]
  },
  {
   "cell_type": "code",
   "execution_count": 49,
   "metadata": {},
   "outputs": [],
   "source": [
    "num_train,_ = X.shape\n",
    "\n",
    "indices = np.random.choice(num_train, num_train)\n",
    "\n",
    "train_X = X[indices[:-20]]\n",
    "train_y = Y[indices[:-20]]\n",
    "test_X = X[indices[-20:]]\n",
    "test_y = Y[indices[-20:]]"
   ]
  },
  {
   "cell_type": "code",
   "execution_count": 54,
   "metadata": {},
   "outputs": [
    {
     "name": "stdout",
     "output_type": "stream",
     "text": [
      "Accuracy of DotA dataset with predefined sklearn library is  0.6\n"
     ]
    },
    {
     "name": "stderr",
     "output_type": "stream",
     "text": [
      "C:\\Users\\Asus\\Anaconda3\\lib\\site-packages\\sklearn\\utils\\validation.py:578: DataConversionWarning: A column-vector y was passed when a 1d array was expected. Please change the shape of y to (n_samples, ), for example using ravel().\n",
      "  y = column_or_1d(y, warn=True)\n"
     ]
    }
   ],
   "source": [
    "logreg = LogisticRegression()\n",
    "\n",
    "# fit the model with data\n",
    "logreg.fit(train_X, train_y)\n",
    "\n",
    "# predict the response for new observations\n",
    "y_pred=logreg.predict(test_X)\n",
    "print(\"Accuracy of DotA dataset with predefined sklearn library is \",metrics.accuracy_score(test_y, y_pred))"
   ]
  },
  {
   "cell_type": "code",
   "execution_count": 55,
   "metadata": {},
   "outputs": [
    {
     "name": "stdout",
     "output_type": "stream",
     "text": [
      "(10, 15000)\n",
      "(1, 15000)\n"
     ]
    }
   ],
   "source": [
    "# Using Neural Network\n",
    "\n",
    "X = X.T\n",
    "Y = Y.T\n",
    "print(X.shape)\n",
    "print(Y.shape)"
   ]
  },
  {
   "cell_type": "code",
   "execution_count": null,
   "metadata": {
    "collapsed": true
   },
   "outputs": [],
   "source": []
  }
 ],
 "metadata": {
  "kernelspec": {
   "display_name": "Python 3",
   "language": "python",
   "name": "python3"
  },
  "language_info": {
   "codemirror_mode": {
    "name": "ipython",
    "version": 3
   },
   "file_extension": ".py",
   "mimetype": "text/x-python",
   "name": "python",
   "nbconvert_exporter": "python",
   "pygments_lexer": "ipython3",
   "version": "3.6.3"
  }
 },
 "nbformat": 4,
 "nbformat_minor": 2
}
